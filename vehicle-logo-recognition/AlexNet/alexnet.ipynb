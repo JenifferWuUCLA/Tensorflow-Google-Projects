{
 "cells": [
  {
   "cell_type": "code",
   "execution_count": 1,
   "metadata": {},
   "outputs": [
    {
     "name": "stderr",
     "output_type": "stream",
     "text": [
      "Using TensorFlow backend.\n"
     ]
    }
   ],
   "source": [
    "import keras\n",
    "from keras.preprocessing.image import ImageDataGenerator"
   ]
  },
  {
   "cell_type": "code",
   "execution_count": 2,
   "metadata": {
    "collapsed": true
   },
   "outputs": [],
   "source": [
    "train_datagen = ImageDataGenerator(rescale=1./255,\n",
    "                                   shear_range=0.2,\n",
    "                                   zoom_range=0.2,\n",
    "                                   horizontal_flip=True)\n",
    "validation_datagen = ImageDataGenerator(rescale=1./255)"
   ]
  },
  {
   "cell_type": "code",
   "execution_count": 3,
   "metadata": {},
   "outputs": [
    {
     "name": "stdout",
     "output_type": "stream",
     "text": [
      "Found 20059 images belonging to 42 classes.\n",
      "Found 5040 images belonging to 42 classes.\n"
     ]
    }
   ],
   "source": [
    "train_generator = train_datagen.flow_from_directory('./logo/train',\n",
    "                                                   target_size=(63, 63),\n",
    "                                                   batch_size=128,\n",
    "                                                   class_mode='categorical')\n",
    "validation_generator = validation_datagen.flow_from_directory('./logo/val',\n",
    "                                                             target_size=(63, 63),\n",
    "                                                             batch_size=128,\n",
    "                                                             class_mode='categorical')"
   ]
  },
  {
   "cell_type": "code",
   "execution_count": null,
   "metadata": {
    "collapsed": true
   },
   "outputs": [],
   "source": [
    "from keras.models import Sequential\n",
    "from keras.layers import Dense, Dropout, Flatten\n",
    "from keras.layers import Conv2D, MaxPooling2D, Activation\n",
    "from keras.layers.normalization import BatchNormalization"
   ]
  },
  {
   "cell_type": "code",
   "execution_count": null,
   "metadata": {},
   "outputs": [
    {
     "name": "stdout",
     "output_type": "stream",
     "text": [
      "Epoch 1/20\n",
      "150/150 [==============================] - 123s - loss: 1.5165 - acc: 0.6351 - val_loss: 2.9753 - val_acc: 0.1512\n",
      "Epoch 2/20\n",
      "150/150 [==============================] - 118s - loss: 0.5528 - acc: 0.8453 - val_loss: 1.0996 - val_acc: 0.6849\n",
      "Epoch 3/20\n",
      "150/150 [==============================] - 116s - loss: 0.3865 - acc: 0.8912 - val_loss: 0.4791 - val_acc: 0.8578\n",
      "Epoch 4/20\n",
      "150/150 [==============================] - 116s - loss: 0.2848 - acc: 0.9186 - val_loss: 0.2618 - val_acc: 0.9332\n",
      "Epoch 5/20\n",
      "150/150 [==============================] - 115s - loss: 0.2203 - acc: 0.9372 - val_loss: 0.2555 - val_acc: 0.9341\n",
      "Epoch 6/20\n",
      "150/150 [==============================] - 115s - loss: 0.1746 - acc: 0.9490 - val_loss: 0.2908 - val_acc: 0.9218\n",
      "Epoch 7/20\n",
      "150/150 [==============================] - 116s - loss: 0.1560 - acc: 0.9539 - val_loss: 0.3473 - val_acc: 0.9164\n",
      "Epoch 8/20\n",
      "150/150 [==============================] - 116s - loss: 0.1242 - acc: 0.9640 - val_loss: 0.2189 - val_acc: 0.9487\n",
      "Epoch 9/20\n",
      "150/150 [==============================] - 116s - loss: 0.1058 - acc: 0.9709 - val_loss: 0.1854 - val_acc: 0.9594\n",
      "Epoch 10/20\n",
      "150/150 [==============================] - 116s - loss: 0.0904 - acc: 0.9732 - val_loss: 0.1554 - val_acc: 0.9652\n",
      "Epoch 11/20\n",
      "150/150 [==============================] - 115s - loss: 0.0797 - acc: 0.9778 - val_loss: 0.1800 - val_acc: 0.9611\n",
      "Epoch 12/20\n",
      "150/150 [==============================] - 116s - loss: 0.0660 - acc: 0.9801 - val_loss: 0.1407 - val_acc: 0.9706\n",
      "Epoch 13/20\n",
      "150/150 [==============================] - 116s - loss: 0.0578 - acc: 0.9829 - val_loss: 0.1155 - val_acc: 0.9762\n",
      "Epoch 14/20\n",
      "150/150 [==============================] - 116s - loss: 0.0537 - acc: 0.9839 - val_loss: 0.1505 - val_acc: 0.9680\n",
      "Epoch 15/20\n",
      "150/150 [==============================] - 117s - loss: 0.0402 - acc: 0.9878 - val_loss: 0.1627 - val_acc: 0.9656\n",
      "Epoch 16/20\n",
      "150/150 [==============================] - 116s - loss: 0.0400 - acc: 0.9883 - val_loss: 0.1470 - val_acc: 0.9669\n",
      "Epoch 17/20\n",
      "150/150 [==============================] - 116s - loss: 0.0362 - acc: 0.9891 - val_loss: 0.1281 - val_acc: 0.9759\n",
      "Epoch 18/20\n",
      "150/150 [==============================] - 116s - loss: 0.0367 - acc: 0.9892 - val_loss: 0.1377 - val_acc: 0.9729\n",
      "Epoch 19/20\n",
      "150/150 [==============================] - 116s - loss: 0.0258 - acc: 0.9919 - val_loss: 0.1381 - val_acc: 0.9740\n",
      "Epoch 20/20\n",
      "145/150 [============================>.] - ETA: 3s - loss: 0.0235 - acc: 0.9924"
     ]
    }
   ],
   "source": [
    "num_classes = 42\n",
    "epochs = 20\n",
    "input_shape = (63, 63, 3)\n",
    "\n",
    "# input image dimensions\n",
    "img_rows, img_cols = 64, 64\n",
    "\n",
    "model = Sequential()\n",
    "model.add(Conv2D(96, kernel_size=(5, 5), strides=(2,2), input_shape=input_shape))\n",
    "model.add(BatchNormalization())\n",
    "model.add(Activation('relu'))\n",
    "model.add(MaxPooling2D(pool_size=(2,2)))\n",
    "\n",
    "model.add(Conv2D(256, kernel_size=(5, 5), padding='same'))\n",
    "model.add(BatchNormalization())\n",
    "model.add(Activation('relu'))\n",
    "model.add(MaxPooling2D(pool_size=(2,2)))\n",
    "\n",
    "model.add(Conv2D(384, kernel_size=(3, 3), padding='same'))\n",
    "model.add(BatchNormalization())\n",
    "model.add(Activation('relu'))\n",
    "\n",
    "model.add(Conv2D(384, kernel_size=(3, 3), padding='same'))\n",
    "model.add(BatchNormalization())\n",
    "model.add(Activation('relu'))\n",
    "\n",
    "model.add(Conv2D(256, kernel_size=(3, 3), padding='same'))\n",
    "model.add(BatchNormalization())\n",
    "model.add(Activation('relu'))\n",
    "model.add(MaxPooling2D(pool_size=(2,2)))\n",
    "\n",
    "model.add(Flatten())\n",
    "model.add(Dense(4096))\n",
    "model.add(BatchNormalization())\n",
    "model.add(Activation('relu'))\n",
    "\n",
    "model.add(Dense(4096))\n",
    "model.add(BatchNormalization())\n",
    "model.add(Activation('relu'))\n",
    "\n",
    "model.add(Dense(num_classes, activation='softmax'))\n",
    "\n",
    "model.compile(loss=keras.losses.categorical_crossentropy,\n",
    "              optimizer=keras.optimizers.Adadelta(),\n",
    "              metrics=['accuracy'])\n",
    "\n",
    "model.fit_generator(train_generator,\n",
    "                    steps_per_epoch=150,\n",
    "                    epochs=epochs,\n",
    "                    validation_data=validation_generator,\n",
    "                    validation_steps=37)"
   ]
  }
 ],
 "metadata": {
  "kernelspec": {
   "display_name": "Python 3",
   "language": "python",
   "name": "python3"
  },
  "language_info": {
   "codemirror_mode": {
    "name": "ipython",
    "version": 3
   },
   "file_extension": ".py",
   "mimetype": "text/x-python",
   "name": "python",
   "nbconvert_exporter": "python",
   "pygments_lexer": "ipython3",
   "version": "3.6.1"
  }
 },
 "nbformat": 4,
 "nbformat_minor": 2
}
